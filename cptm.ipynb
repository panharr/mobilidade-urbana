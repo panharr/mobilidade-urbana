{
 "cells": [
  {
   "cell_type": "code",
   "execution_count": 57,
   "id": "dc4b959d",
   "metadata": {},
   "outputs": [],
   "source": [
    "import pandas as pd\n",
    "import numpy as np\n",
    "import matplotlib\n",
    "import matplotlib.pyplot as plt\n",
    "import seaborn as sns"
   ]
  },
  {
   "cell_type": "code",
   "execution_count": 101,
   "id": "e95ca0ba",
   "metadata": {
    "scrolled": true
   },
   "outputs": [
    {
     "data": {
      "text/plain": [
       "array([4.3 , 5.04, 7.23, 6.09, 4.75, 3.86, 7.78, 5.26])"
      ]
     },
     "execution_count": 101,
     "metadata": {},
     "output_type": "execute_result"
    }
   ],
   "source": [
    "df = pd.read_csv('motivoviagem.csv', index_col=0)\n",
    "data = df.values\n",
    "df.style"
   ]
  },
  {
   "cell_type": "code",
   "execution_count": 117,
   "id": "88142ddb",
   "metadata": {},
   "outputs": [
    {
     "data": {
      "image/png": "[encoded data removed]",
      "text/plain": [
       "<Figure size 432x288 with 1 Axes>"
      ]
     },
     "metadata": {
      "needs_background": "light"
     },
     "output_type": "display_data"
    }
   ],
   "source": [
    "labels = ['Linha 07', 'Linha 08', 'Linha 09', 'Linha 10', 'Linha 11', 'Linha 12', 'Linha 13', 'CPTM']\n",
    "trabalho_data = data[0]\n",
    "estudo_data = data[1]\n",
    "lazer_data = data[2]\n",
    "saude_data = data[3]\n",
    "outros_data = data[4]\n",
    "width = 0.5\n",
    "\n",
    "vector = np.vectorize(int)\n",
    "data = vector(data)\n",
    "\n",
    "fig, ax = plt.subplots()\n",
    "\n",
    "b_lazer = list(np.add(trabalho_data,estudo_data))\n",
    "b_saude = list(np.add(b_lazer,lazer_data))\n",
    "b_outros = list(np.add(b_saude,saude_data))\n",
    "\n",
    "\n",
    "ax.bar(labels, trabalho_data, width, label='Trabalho')\n",
    "ax.bar(labels, estudo_data, width, bottom=trabalho_data, label='Estudo')\n",
    "ax.bar(labels, lazer_data, width, bottom=b_lazer, label='Lazer')\n",
    "ax.bar(labels, saude_data, width, bottom=b_saude, label='Saúde')\n",
    "ax.bar(labels, outros_data, width,bottom=b_outros, label='Outros')\n",
    "\n",
    "ax.legend()\n",
    "\n",
    "plt.show()"
   ]
  }
 ],
 "metadata": {
  "kernelspec": {
   "display_name": "Python 3 (ipykernel)",
   "language": "python",
   "name": "python3"
  },
  "language_info": {
   "codemirror_mode": {
    "name": "ipython",
    "version": 3
   },
   "file_extension": ".py",
   "mimetype": "text/x-python",
   "name": "python",
   "nbconvert_exporter": "python",
   "pygments_lexer": "ipython3",
   "version": "3.9.7"
  }
 },
 "nbformat": 4,
 "nbformat_minor": 5
}
